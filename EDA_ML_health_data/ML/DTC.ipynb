{
 "cells": [
  {
   "cell_type": "code",
   "execution_count": 54,
   "metadata": {},
   "outputs": [],
   "source": [
    "import numpy as np\n",
    "import pandas as pd\n",
    "\n",
    "import matplotlib.pyplot as plt\n",
    "import seaborn as sns\n",
    "\n",
    "import random\n",
    "from pprint import pprint"
   ]
  },
  {
   "cell_type": "code",
   "execution_count": 55,
   "metadata": {},
   "outputs": [],
   "source": [
    "%matplotlib inline\n",
    "sns.set_style(\"darkgrid\")"
   ]
  },
  {
   "cell_type": "code",
   "execution_count": 56,
   "metadata": {},
   "outputs": [],
   "source": [
    "df = pd.read_csv(\"./predspracovanie_train.csv\")\n",
    "df.head()\n",
    "df = df[['glucose_mean','pregnant', 'race', 'age', 'sex','class']]\n",
    "#train_labels_df = df[['class']]\n",
    "##################################\n",
    "#df = pd.read_csv(\"./predspracovanie_valid.csv\")\n",
    "#df.head()\n",
    "#test_df = df[['glucose_mean','pregnant', 'race', 'age', 'sex']]\n",
    "#test_labels_df = df[['class']]"
   ]
  },
  {
   "cell_type": "code",
   "execution_count": 57,
   "metadata": {},
   "outputs": [],
   "source": [
    "def train_test_split(df, test_size):\n",
    "    \n",
    "    if isinstance(test_size, float):\n",
    "        test_size = round(test_size * len(df))\n",
    "\n",
    "    indices = df.index.tolist()\n",
    "    test_indices = random.sample(population=indices, k=test_size)\n",
    "\n",
    "    test_df = df.loc[test_indices]\n",
    "    train_df = df.drop(test_indices)\n",
    "    \n",
    "    return train_df, test_df"
   ]
  },
  {
   "cell_type": "code",
   "execution_count": 58,
   "metadata": {},
   "outputs": [],
   "source": [
    "random.seed(0)\n",
    "train_df, test_df = train_test_split(df, test_size=20)"
   ]
  },
  {
   "cell_type": "code",
   "execution_count": 59,
   "metadata": {},
   "outputs": [
    {
     "data": {
      "text/plain": [
       "array([[10.35313962,  0.        ,  1.        , 55.        ,  0.        ,\n",
       "         0.        ],\n",
       "       [ 8.87279902,  0.        ,  1.        , 53.        ,  1.        ,\n",
       "         1.        ],\n",
       "       [11.4554163 ,  0.        ,  1.        , 49.        ,  1.        ,\n",
       "         0.        ],\n",
       "       [10.3092798 ,  0.        ,  1.        , 41.        ,  1.        ,\n",
       "         1.        ],\n",
       "       [10.51449892,  0.        ,  2.        , 52.        ,  1.        ,\n",
       "         1.        ]])"
      ]
     },
     "execution_count": 59,
     "metadata": {},
     "output_type": "execute_result"
    }
   ],
   "source": [
    "data = train_df.values\n",
    "data[:5]"
   ]
  },
  {
   "cell_type": "code",
   "execution_count": 60,
   "metadata": {},
   "outputs": [],
   "source": [
    "### Check purety ###\n",
    "def check_purity(data):\n",
    "    \n",
    "    label_column = data[:, -1]\n",
    "    unique_classes = np.unique(label_column)\n",
    "\n",
    "    if len(unique_classes) == 1:\n",
    "        return True\n",
    "    else:\n",
    "        return False"
   ]
  },
  {
   "cell_type": "code",
   "execution_count": 61,
   "metadata": {},
   "outputs": [],
   "source": [
    "### Classify ###\n",
    "def classify_data(data):\n",
    "    \n",
    "    label_column = data[:, -1]\n",
    "    unique_classes, counts_unique_classes = np.unique(label_column, return_counts=True)\n",
    "\n",
    "    index = counts_unique_classes.argmax()\n",
    "    classification = unique_classes[index]\n",
    "    \n",
    "    return classification"
   ]
  },
  {
   "cell_type": "code",
   "execution_count": 62,
   "metadata": {},
   "outputs": [],
   "source": [
    "\n",
    "def get_potential_splits(data):\n",
    "    \n",
    "    potential_splits = {}\n",
    "    _, n_columns = data.shape\n",
    "    for column_index in range(n_columns - 1):          # excluding the last column which is the label\n",
    "        values = data[:, column_index]\n",
    "        unique_values = np.unique(values)\n",
    "        \n",
    "        potential_splits[column_index] = unique_values\n",
    "    \n",
    "    return potential_splits"
   ]
  },
  {
   "cell_type": "code",
   "execution_count": 63,
   "metadata": {},
   "outputs": [],
   "source": [
    "def split_data(data, split_column, split_value):\n",
    "    \n",
    "    split_column_values = data[:, split_column]\n",
    "\n",
    "    type_of_feature = FEATURE_TYPES[split_column]\n",
    "    if type_of_feature == \"continuous\":\n",
    "        data_below = data[split_column_values <= split_value]\n",
    "        data_above = data[split_column_values >  split_value]\n",
    "    \n",
    "    # feature is categorical   \n",
    "    else:\n",
    "        data_below = data[split_column_values == split_value]\n",
    "        data_above = data[split_column_values != split_value]\n",
    "    \n",
    "    return data_below, data_above"
   ]
  },
  {
   "cell_type": "code",
   "execution_count": 64,
   "metadata": {},
   "outputs": [],
   "source": [
    "def calculate_entropy(data):\n",
    "    \n",
    "    label_column = data[:, -1]\n",
    "    _, counts = np.unique(label_column, return_counts=True)\n",
    "\n",
    "    probabilities = counts / counts.sum()\n",
    "    entropy = sum(probabilities * -np.log2(probabilities))\n",
    "     \n",
    "    return entropy"
   ]
  },
  {
   "cell_type": "code",
   "execution_count": 42,
   "metadata": {},
   "outputs": [],
   "source": [
    "def calculate_overall_entropy(data_below, data_above):\n",
    "    \n",
    "    n = len(data_below) + len(data_above)\n",
    "    p_data_below = len(data_below) / n\n",
    "    p_data_above = len(data_above) / n\n",
    "\n",
    "    overall_entropy =  (p_data_below * calculate_entropy(data_below) \n",
    "                      + p_data_above * calculate_entropy(data_above))\n",
    "    \n",
    "    return overall_entropy"
   ]
  },
  {
   "cell_type": "code",
   "execution_count": 43,
   "metadata": {},
   "outputs": [],
   "source": [
    "def determine_best_split(data, potential_splits):\n",
    "    \n",
    "    overall_entropy = 9999\n",
    "    for column_index in potential_splits:\n",
    "        for value in potential_splits[column_index]:\n",
    "            data_below, data_above = split_data(data, split_column=column_index, split_value=value)\n",
    "            current_overall_entropy = calculate_overall_entropy(data_below, data_above)\n",
    "\n",
    "            if current_overall_entropy <= overall_entropy:\n",
    "                overall_entropy = current_overall_entropy\n",
    "                best_split_column = column_index\n",
    "                best_split_value = value\n",
    "    \n",
    "    return best_split_column, best_split_value"
   ]
  },
  {
   "cell_type": "code",
   "execution_count": 44,
   "metadata": {},
   "outputs": [],
   "source": [
    "def determine_type_of_feature(df):\n",
    "    \n",
    "    feature_types = []\n",
    "    n_unique_values_treshold = 15\n",
    "    for feature in df.columns:\n",
    "        if feature != \"label\":\n",
    "            unique_values = df[feature].unique()\n",
    "            example_value = unique_values[0]\n",
    "\n",
    "            if (isinstance(example_value, str)) or (len(unique_values) <= n_unique_values_treshold):\n",
    "                feature_types.append(\"categorical\")\n",
    "            else:\n",
    "                feature_types.append(\"continuous\")\n",
    "    \n",
    "    return feature_types"
   ]
  },
  {
   "cell_type": "code",
   "execution_count": 66,
   "metadata": {},
   "outputs": [],
   "source": [
    "    \n",
    "def decision_tree_algorithm(df, counter=0, min_samples=2, max_depth=5):\n",
    "    # data preparations\n",
    "    if counter == 0:\n",
    "        global COLUMN_HEADERS, FEATURE_TYPES\n",
    "        COLUMN_HEADERS = df.columns\n",
    "        FEATURE_TYPES = determine_type_of_feature(df)\n",
    "        data = df.values\n",
    "    else:\n",
    "        data = df           \n",
    "    \n",
    "    \n",
    "    # base cases\n",
    "    if (check_purity(data)) or (len(data) < min_samples) or (counter == max_depth):\n",
    "        classification = classify_data(data)\n",
    "        \n",
    "        return classification\n",
    "\n",
    "    \n",
    "    # recursive part\n",
    "    else:    \n",
    "        counter += 1\n",
    "\n",
    "        # helper functions \n",
    "        potential_splits = get_potential_splits(data)\n",
    "        split_column, split_value = determine_best_split(data, potential_splits)\n",
    "        data_below, data_above = split_data(data, split_column, split_value)\n",
    "        \n",
    "        # check for empty data\n",
    "        if len(data_below) == 0 or len(data_above) == 0:\n",
    "            classification = classify_data(data)\n",
    "            return classification\n",
    "        \n",
    "        # determine question\n",
    "        feature_name = COLUMN_HEADERS[split_column]\n",
    "        type_of_feature = FEATURE_TYPES[split_column]\n",
    "        if type_of_feature == \"continuous\":\n",
    "            question = \"{} <= {}\".format(feature_name, split_value)\n",
    "            \n",
    "        # feature is categorical\n",
    "        else:\n",
    "            question = \"{} = {}\".format(feature_name, split_value)\n",
    "        \n",
    "        # instantiate sub-tree\n",
    "        sub_tree = {question: []}\n",
    "        \n",
    "        # find answers (recursion)\n",
    "        yes_answer = decision_tree_algorithm(data_below, counter, min_samples, max_depth)\n",
    "        no_answer = decision_tree_algorithm(data_above, counter, min_samples, max_depth)\n",
    "        \n",
    "        # If the answers are the same, then there is no point in asking the qestion.\n",
    "        # This could happen when the data is classified even though it is not pure\n",
    "        # yet (min_samples or max_depth base case).\n",
    "        if yes_answer == no_answer:\n",
    "            sub_tree = yes_answer\n",
    "        else:\n",
    "            sub_tree[question].append(yes_answer)\n",
    "            sub_tree[question].append(no_answer)\n",
    "        \n",
    "        return sub_tree"
   ]
  },
  {
   "cell_type": "code",
   "execution_count": 67,
   "metadata": {},
   "outputs": [
    {
     "name": "stdout",
     "output_type": "stream",
     "text": [
      "{'glucose_mean <= 8.779859765394889': [{'glucose_mean <= 8.510104288432663': [1.0,\n",
      "                                                                              {'age <= 52.0': [0.0,\n",
      "                                                                                               1.0]}]},\n",
      "                                       0.0]}\n"
     ]
    }
   ],
   "source": [
    "tree = decision_tree_algorithm(train_df, max_depth=3)\n",
    "pprint(tree)"
   ]
  },
  {
   "cell_type": "code",
   "execution_count": 47,
   "metadata": {},
   "outputs": [
    {
     "data": {
      "text/plain": [
       "glucose_mean    11.098986\n",
       "pregnant         0.000000\n",
       "race             1.000000\n",
       "age             60.000000\n",
       "sex              0.000000\n",
       "class            0.000000\n",
       "Name: 3458, dtype: float64"
      ]
     },
     "execution_count": 47,
     "metadata": {},
     "output_type": "execute_result"
    }
   ],
   "source": [
    "example = test_df.iloc[0]\n",
    "example"
   ]
  },
  {
   "cell_type": "code",
   "execution_count": 68,
   "metadata": {},
   "outputs": [],
   "source": [
    "def classify_example(example, tree):\n",
    "    question = list(tree.keys())[0]\n",
    "    feature_name, comparison_operator, value = question.split(\" \")\n",
    "\n",
    "    # ask question\n",
    "    if comparison_operator == \"<=\":  # feature is continuous\n",
    "        if example[feature_name] <= float(value):\n",
    "            answer = tree[question][0]\n",
    "        else:\n",
    "            answer = tree[question][1]\n",
    "    \n",
    "    # feature is categorical\n",
    "    else:\n",
    "        if str(example[feature_name]) == value:\n",
    "            answer = tree[question][0]\n",
    "        else:\n",
    "            answer = tree[question][1]\n",
    "\n",
    "    # base case\n",
    "    if not isinstance(answer, dict):\n",
    "        return answer\n",
    "    \n",
    "    # recursive part\n",
    "    else:\n",
    "        residual_tree = answer\n",
    "        return classify_example(example, residual_tree)"
   ]
  },
  {
   "cell_type": "code",
   "execution_count": 69,
   "metadata": {},
   "outputs": [
    {
     "data": {
      "text/plain": [
       "0.0"
      ]
     },
     "execution_count": 69,
     "metadata": {},
     "output_type": "execute_result"
    }
   ],
   "source": [
    "classify_example(example, tree)"
   ]
  },
  {
   "cell_type": "code",
   "execution_count": 72,
   "metadata": {},
   "outputs": [],
   "source": [
    "def calculate_accuracy(df, tree):\n",
    "\n",
    "    df[\"classification\"] = df.apply(classify_example, axis=1, args=(tree,))\n",
    "    df[\"classification_correct\"] = df[\"classification\"] == df[\"class\"]\n",
    "    \n",
    "    accuracy = df[\"classification_correct\"].mean()\n",
    "    \n",
    "    return accuracy"
   ]
  },
  {
   "cell_type": "code",
   "execution_count": 73,
   "metadata": {},
   "outputs": [
    {
     "data": {
      "text/plain": [
       "1.0"
      ]
     },
     "execution_count": 73,
     "metadata": {},
     "output_type": "execute_result"
    }
   ],
   "source": [
    "accuracy = calculate_accuracy(test_df, tree)\n",
    "accuracy"
   ]
  },
  {
   "cell_type": "code",
   "execution_count": 74,
   "metadata": {},
   "outputs": [
    {
     "name": "stdout",
     "output_type": "stream",
     "text": [
      "{'glucose_mean <= 8.779859765394889': [{'glucose_mean <= 8.510104288432663': [{'glucose_mean <= 7.386643351347079': [{'race = 6.0': [{'age <= 52.0': [{'age <= 49.0': [1.0,\n",
      "                                                                                                                                                                       0.0]},\n",
      "                                                                                                                                                      1.0]},\n",
      "                                                                                                                                     1.0]},\n",
      "                                                                                                                     {'race = 6.0': [{'glucose_mean <= 7.7555423730387805': [0.0,\n",
      "                                                                                                                                                                             1.0]},\n",
      "                                                                                                                                     {'glucose_mean <= 7.567405433832655': [1.0,\n",
      "                                                                                                                                                                            {'glucose_mean <= 7.57050196486336': [0.0,\n",
      "                                                                                                                                                                                                                  {'age <= 65.0': [{'glucose_mean <= 8.10237233777861': [{'glucose_mean <= 8.09803216837276': [1.0,\n",
      "                                                                                                                                                                                                                                                                                                               0.0]},\n",
      "                                                                                                                                                                                                                                                                         1.0]},\n",
      "                                                                                                                                                                                                                                   {'glucose_mean <= 8.188215617581161': [1.0,\n",
      "                                                                                                                                                                                                                                                                          {'glucose_mean <= 8.346500014976337': [0.0,\n",
      "                                                                                                                                                                                                                                                                                                                 {'glucose_mean <= 8.450684143902198': [1.0,\n",
      "                                                                                                                                                                                                                                                                                                                                                        0.0]}]}]}]}]}]}]}]},\n",
      "                                                                              {'age <= 52.0': [{'glucose_mean <= 8.528445051707843': [0.0,\n",
      "                                                                                                                                      {'age <= 43.0': [{'sex = 1.0': [0.0,\n",
      "                                                                                                                                                                      {'age <= 42.0': [1.0,\n",
      "                                                                                                                                                                                       0.0]}]},\n",
      "                                                                                                                                                       {'sex = 1.0': [{'age <= 47.0': [1.0,\n",
      "                                                                                                                                                                                       {'age <= 48.0': [0.0,\n",
      "                                                                                                                                                                                                        {'glucose_mean <= 8.733019237354284': [1.0,\n",
      "                                                                                                                                                                                                                                               {'age <= 51.0': [1.0,\n",
      "                                                                                                                                                                                                                                                                0.0]}]}]}]},\n",
      "                                                                                                                                                                      {'glucose_mean <= 8.685026626326486': [0.0,\n",
      "                                                                                                                                                                                                             {'age <= 48.0': [1.0,\n",
      "                                                                                                                                                                                                                              0.0]}]}]}]}]},\n",
      "                                                                                               {'glucose_mean <= 8.65890076741846': [{'glucose_mean <= 8.639028446532631': [1.0,\n",
      "                                                                                                                                                                            0.0]},\n",
      "                                                                                                                                     1.0]}]}]},\n",
      "                                       {'glucose_mean <= 10.531945451814684': [{'glucose_mean <= 10.51338432665714': [{'glucose_mean <= 9.326122586584415': [{'age <= 51.0': [{'race = 1.0': [{'age <= 42.0': [{'glucose_mean <= 9.16813435220056': [{'age <= 38.0': [{'glucose_mean <= 9.130135541162574': [0.0,\n",
      "                                                                                                                                                                                                                                                                                                             1.0]},\n",
      "                                                                                                                                                                                                                                                                      0.0]},\n",
      "                                                                                                                                                                                                                                                     0.0]},\n",
      "                                                                                                                                                                                                               {'glucose_mean <= 8.844578141437838': [0.0,\n",
      "                                                                                                                                                                                                                                                      {'glucose_mean <= 9.304736696973213': [0.0,\n",
      "                                                                                                                                                                                                                                                                                             1.0]}]}]},\n",
      "                                                                                                                                                                                              0.0]},\n",
      "                                                                                                                                                                              {'glucose_mean <= 9.092407546959166': [{'race = 5.0': [0.0,\n",
      "                                                                                                                                                                                                                                     {'race = 4.0': [0.0,\n",
      "                                                                                                                                                                                                                                                     {'glucose_mean <= 8.824238635712431': [1.0,\n",
      "                                                                                                                                                                                                                                                                                            {'glucose_mean <= 8.830876230590029': [0.0,\n",
      "                                                                                                                                                                                                                                                                                                                                   1.0]}]}]}]},\n",
      "                                                                                                                                                                                                                     {'sex = 1.0': [{'glucose_mean <= 9.191113235076589': [{'age <= 55.0': [{'glucose_mean <= 9.097990849632682': [0.0,\n",
      "                                                                                                                                                                                                                                                                                                                                   1.0]},\n",
      "                                                                                                                                                                                                                                                                                            0.0]},\n",
      "                                                                                                                                                                                                                                                                           {'glucose_mean <= 9.25970774376816': [0.0,\n",
      "                                                                                                                                                                                                                                                                                                                 {'age <= 60.0': [0.0,\n",
      "                                                                                                                                                                                                                                                                                                                                  1.0]}]}]},\n",
      "                                                                                                                                                                                                                                    {'age <= 60.0': [{'glucose_mean <= 9.271933455326348': [{'glucose_mean <= 9.258442093570602': [1.0,\n",
      "                                                                                                                                                                                                                                                                                                                                   0.0]},\n",
      "                                                                                                                                                                                                                                                                                            1.0]},\n",
      "                                                                                                                                                                                                                                                     1.0]}]}]}]},\n",
      "                                                                                                                                                             {'glucose_mean <= 10.29221489767873': [{'age <= 50.0': [{'age <= 43.0': [{'sex = 1.0': [0.0,\n",
      "                                                                                                                                                                                                                                                     {'glucose_mean <= 9.825826937209916': [{'glucose_mean <= 9.808717423802156': [0.0,\n",
      "                                                                                                                                                                                                                                                                                                                                   1.0]},\n",
      "                                                                                                                                                                                                                                                                                            0.0]}]},\n",
      "                                                                                                                                                                                                                                      {'glucose_mean <= 10.256095748383009': [{'glucose_mean <= 10.182322303875477': [{'glucose_mean <= 10.173111004014457': [0.0,\n",
      "                                                                                                                                                                                                                                                                                                                                                              1.0]},\n",
      "                                                                                                                                                                                                                                                                                                                      0.0]},\n",
      "                                                                                                                                                                                                                                                                              {'age <= 45.0': [1.0,\n",
      "                                                                                                                                                                                                                                                                                               0.0]}]}]},\n",
      "                                                                                                                                                                                                                     {'glucose_mean <= 9.663882501355241': [{'glucose_mean <= 9.367079987915123': [0.0,\n",
      "                                                                                                                                                                                                                                                                                                   {'age <= 65.0': [{'age <= 61.0': [0.0,\n",
      "                                                                                                                                                                                                                                                                                                                                     1.0]},\n",
      "                                                                                                                                                                                                                                                                                                                    {'race = 5.0': [1.0,\n",
      "                                                                                                                                                                                                                                                                                                                                    0.0]}]}]},\n",
      "                                                                                                                                                                                                                                                            {'glucose_mean <= 9.70623188987364': [0.0,\n",
      "                                                                                                                                                                                                                                                                                                  {'glucose_mean <= 9.797560283050062': [{'age <= 64.0': [0.0,\n",
      "                                                                                                                                                                                                                                                                                                                                                          1.0]},\n",
      "                                                                                                                                                                                                                                                                                                                                         0.0]}]}]}]},\n",
      "                                                                                                                                                                                                    {'age <= 47.0': [{'glucose_mean <= 10.309279800257631': [{'glucose_mean <= 10.307764064044152': [0.0,\n",
      "                                                                                                                                                                                                                                                                                                     1.0]},\n",
      "                                                                                                                                                                                                                                                             0.0]},\n",
      "                                                                                                                                                                                                                     {'glucose_mean <= 10.321019208392164': [0.0,\n",
      "                                                                                                                                                                                                                                                             {'glucose_mean <= 10.322532998251932': [1.0,\n",
      "                                                                                                                                                                                                                                                                                                     0.0]}]}]}]}]},\n",
      "                                                                                                                      {'age <= 43.0': [{'glucose_mean <= 10.51449891816058': [{'age <= 38.0': [0.0,\n",
      "                                                                                                                                                                                               {'age <= 40.0': [{'sex = 1.0': [1.0,\n",
      "                                                                                                                                                                                                                               {'age <= 39.0': [1.0,\n",
      "                                                                                                                                                                                                                                                0.0]}]},\n",
      "                                                                                                                                                                                                                0.0]}]},\n",
      "                                                                                                                                                                              0.0]},\n",
      "                                                                                                                                       {'age <= 62.0': [{'glucose_mean <= 10.51449891816058': [{'race = 3.0': [{'age <= 52.0': [0.0,\n",
      "                                                                                                                                                                                                                                {'age <= 57.0': [1.0,\n",
      "                                                                                                                                                                                                                                                 0.0]}]},\n",
      "                                                                                                                                                                                                               {'sex = 1.0': [{'age <= 49.0': [0.0,\n",
      "                                                                                                                                                                                                                                               {'age <= 53.0': [1.0,\n",
      "                                                                                                                                                                                                                                                                0.0]}]},\n",
      "                                                                                                                                                                                                                              {'race = 2.0': [{'age <= 49.0': [1.0,\n",
      "                                                                                                                                                                                                                                                               0.0]},\n",
      "                                                                                                                                                                                                                                              {'age <= 59.0': [1.0,\n",
      "                                                                                                                                                                                                                                                               0.0]}]}]}]},\n",
      "                                                                                                                                                                                               {'age <= 51.0': [0.0,\n",
      "                                                                                                                                                                                                                {'sex = 1.0': [0.0,\n",
      "                                                                                                                                                                                                                               {'age <= 52.0': [1.0,\n",
      "                                                                                                                                                                                                                                                0.0]}]}]}]},\n",
      "                                                                                                                                                        {'race = 3.0': [0.0,\n",
      "                                                                                                                                                                        {'glucose_mean <= 10.514127400787949': [0.0,\n",
      "                                                                                                                                                                                                                {'age <= 65.0': [1.0,\n",
      "                                                                                                                                                                                                                                 {'glucose_mean <= 10.51449891816058': [{'race = 2.0': [0.0,\n",
      "                                                                                                                                                                                                                                                                                        1.0]},\n",
      "                                                                                                                                                                                                                                                                        1.0]}]}]}]}]}]}]},\n",
      "                                                                               {'glucose_mean <= 10.835055952785845': [{'age <= 44.0': [{'race = 2.0': [{'age <= 36.0': [{'glucose_mean <= 10.636390952762127': [0.0,\n",
      "                                                                                                                                                                                                                 1.0]},\n",
      "                                                                                                                                                                         0.0]},\n",
      "                                                                                                                                                        0.0]},\n",
      "                                                                                                                                        {'glucose_mean <= 10.834695427191297': [{'age <= 64.0': [{'glucose_mean <= 10.602181379320012': [{'glucose_mean <= 10.552324980780302': [{'glucose_mean <= 10.551214385083831': [0.0,\n",
      "                                                                                                                                                                                                                                                                                                                         1.0]},\n",
      "                                                                                                                                                                                                                                                                                 0.0]},\n",
      "                                                                                                                                                                                                                                         {'glucose_mean <= 10.609179398049596': [{'age <= 52.0': [{'glucose_mean <= 10.603655030224248': [0.0,\n",
      "                                                                                                                                                                                                                                                                                                                                          1.0]},\n",
      "                                                                                                                                                                                                                                                                                                  1.0]},\n",
      "                                                                                                                                                                                                                                                                                 {'age <= 52.0': [0.0,\n",
      "                                                                                                                                                                                                                                                                                                  {'glucose_mean <= 10.830368183953857': [0.0,\n",
      "                                                                                                                                                                                                                                                                                                                                          1.0]}]}]}]},\n",
      "                                                                                                                                                                                                 {'sex = 1.0': [{'glucose_mean <= 10.752543303795619': [{'glucose_mean <= 10.59739059863323': [{'glucose_mean <= 10.570448192957572': [0.0,\n",
      "                                                                                                                                                                                                                                                                                                                                       1.0]},\n",
      "                                                                                                                                                                                                                                                                                               0.0]},\n",
      "                                                                                                                                                                                                                                                        1.0]},\n",
      "                                                                                                                                                                                                                {'race = 2.0': [{'age <= 65.0': [0.0,\n",
      "                                                                                                                                                                                                                                                 {'glucose_mean <= 10.544918800066693': [1.0,\n",
      "                                                                                                                                                                                                                                                                                         0.0]}]},\n",
      "                                                                                                                                                                                                                                0.0]}]}]},\n",
      "                                                                                                                                                                                1.0]}]},\n",
      "                                                                                                                       {'age <= 46.0': [{'race = 3.0': [{'glucose_mean <= 10.939464109361117': [{'sex = 1.0': [1.0,\n",
      "                                                                                                                                                                                                               0.0]},\n",
      "                                                                                                                                                                                                0.0]},\n",
      "                                                                                                                                                        0.0]},\n",
      "                                                                                                                                        {'glucose_mean <= 11.29539452608894': [{'glucose_mean <= 11.294356998076518': [{'age <= 63.0': [{'age <= 50.0': [{'glucose_mean <= 11.241316092878094': [0.0,\n",
      "                                                                                                                                                                                                                                                                                                 {'glucose_mean <= 11.249652772419246': [1.0,\n",
      "                                                                                                                                                                                                                                                                                                                                         0.0]}]},\n",
      "                                                                                                                                                                                                                                                         0.0]},\n",
      "                                                                                                                                                                                                                                        {'glucose_mean <= 10.945175877983873': [0.0,\n",
      "                                                                                                                                                                                                                                                                                {'glucose_mean <= 10.951241367991118': [1.0,\n",
      "                                                                                                                                                                                                                                                                                                                        0.0]}]}]},\n",
      "                                                                                                                                                                                                                       {'age <= 54.0': [1.0,\n",
      "                                                                                                                                                                                                                                        0.0]}]},\n",
      "                                                                                                                                                                               {'glucose_mean <= 11.52036240749396': [0.0,\n",
      "                                                                                                                                                                                                                      {'glucose_mean <= 11.520701476038687': [{'sex = 1.0': [0.0,\n",
      "                                                                                                                                                                                                                                                                             1.0]},\n",
      "                                                                                                                                                                                                                                                              {'age <= 54.0': [0.0,\n",
      "                                                                                                                                                                                                                                                                               {'age <= 55.0': [{'sex = 1.0': [1.0,\n",
      "                                                                                                                                                                                                                                                                                                               0.0]},\n",
      "                                                                                                                                                                                                                                                                                                0.0]}]}]}]}]}]}]}]}]}\n"
     ]
    },
    {
     "data": {
      "text/plain": [
       "0.85"
      ]
     },
     "execution_count": 74,
     "metadata": {},
     "output_type": "execute_result"
    }
   ],
   "source": [
    "tree = decision_tree_algorithm(train_df, max_depth=10)\n",
    "accuracy = calculate_accuracy(test_df, tree)\n",
    "\n",
    "pprint(tree, width=50)\n",
    "accuracy"
   ]
  },
  {
   "cell_type": "code",
   "execution_count": null,
   "metadata": {},
   "outputs": [],
   "source": []
  }
 ],
 "metadata": {
  "kernelspec": {
   "display_name": "Python 3",
   "language": "python",
   "name": "python3"
  }
 },
 "nbformat": 4,
 "nbformat_minor": 4
}
